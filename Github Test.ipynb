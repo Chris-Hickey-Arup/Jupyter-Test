{
 "cells": [
  {
   "cell_type": "markdown",
   "id": "b1fa3aef",
   "metadata": {},
   "source": [
    "# OaMatrix\n",
    "\n",
    "OaMatrix contains the eigensolvers used in Oasys, as well as several useful tools for numerical linear algebra.\n",
    "\n",
    "OaMatrix contains the eigensolvers\n",
    "- Gep11\n",
    "- Sep11\n",
    "\n",
    "Gep11 solves the generalised eigenvalue problem\n",
    "$$Kx=\\lambda Mx$$\n",
    "and Sep11 solves the standard eigenvalue problem\n",
    "$$Kx=\\lambda x$$\n",
    "\n",
    "Some of the tools OaMatrix contains are\n",
    "- OaPardiso - Solves the [LLT or LDLT decomposition of a matrix](https://en.wikipedia.org/wiki/Cholesky_decomposition).\n",
    "- SymmetricEigenCounter - Counts the number of eigenvalues in an interval for an eigenvalue problem using [Sylvester's Law of Inertia](https://en.wikipedia.org/wiki/Sylvester%27s_law_of_inertia).\n",
    "\n",
    "## Gep11 Principles\n",
    "\n",
    "Gep11 uses subspace iteration with shifting and locking. The core aspect of subspace iteration works as follows.\n"
   ]
  },
  {
   "cell_type": "code",
   "execution_count": 2,
   "id": "3c6837d4",
   "metadata": {},
   "outputs": [
    {
     "name": "stdout",
     "output_type": "stream",
     "text": [
      "Collecting numpy\n",
      "  Downloading numpy-1.22.1-cp310-cp310-win_amd64.whl (14.7 MB)\n",
      "Installing collected packages: numpy\n",
      "Successfully installed numpy-1.22.1\n"
     ]
    }
   ],
   "source": [
    "import sys\n",
    "!{sys.executable} -m pip install numpy"
   ]
  },
  {
   "cell_type": "code",
   "execution_count": 12,
   "id": "c1582859",
   "metadata": {},
   "outputs": [
    {
     "name": "stdout",
     "output_type": "stream",
     "text": [
      "[[ 1.730  1.735  2.682  2.490  1.584  1.215  2.288  1.804  1.950  1.832]\n",
      " [ 1.735  3.322  3.148  3.304  1.993  2.097  2.726  2.594  3.035  3.034]\n",
      " [ 2.682  3.148  6.145  4.137  2.843  2.668  4.659  3.920  4.315  3.306]\n",
      " [ 2.490  3.304  4.137  4.727  2.284  2.619  3.518  3.413  3.633  3.306]\n",
      " [ 1.584  1.993  2.843  2.284  2.030  1.307  2.410  2.066  2.483  2.190]\n",
      " [ 1.215  2.097  2.668  2.619  1.307  1.828  2.127  2.309  2.391  1.863]\n",
      " [ 2.288  2.726  4.659  3.518  2.410  2.127  4.229  3.076  3.389  2.670]\n",
      " [ 1.804  2.594  3.920  3.413  2.066  2.309  3.076  3.373  3.319  2.596]\n",
      " [ 1.950  3.035  4.315  3.633  2.483  2.391  3.389  3.319  4.223  3.064]\n",
      " [ 1.832  3.034  3.306  3.306  2.190  1.863  2.670  2.596  3.064  3.428]]\n"
     ]
    }
   ],
   "source": [
    "import numpy as np\n",
    "matrixSize = 10 \n",
    "A = np.random.rand(matrixSize, matrixSize)\n",
    "M = np.dot(A, A.transpose())\n",
    "np.set_printoptions(formatter={'float': '{: 0.3f}'.format})\n",
    "print(M)"
   ]
  },
  {
   "cell_type": "code",
   "execution_count": null,
   "id": "559e3aad",
   "metadata": {},
   "outputs": [],
   "source": []
  }
 ],
 "metadata": {
  "kernelspec": {
   "display_name": "Python 3 (ipykernel)",
   "language": "python",
   "name": "python3"
  },
  "language_info": {
   "codemirror_mode": {
    "name": "ipython",
    "version": 3
   },
   "file_extension": ".py",
   "mimetype": "text/x-python",
   "name": "python",
   "nbconvert_exporter": "python",
   "pygments_lexer": "ipython3",
   "version": "3.10.2"
  }
 },
 "nbformat": 4,
 "nbformat_minor": 5
}
